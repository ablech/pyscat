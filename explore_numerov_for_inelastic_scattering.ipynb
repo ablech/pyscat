{
 "cells": [
  {
   "cell_type": "markdown",
   "metadata": {},
   "source": [
    "Testing the renormalised Numerov method as described by Millard Alexander\n",
    "on a two channel scattering calculation of an Cl atom colliding with H2."
   ]
  },
  {
   "cell_type": "code",
   "execution_count": 1,
   "metadata": {},
   "outputs": [],
   "source": [
    "import matplotlib.pyplot as plt\n",
    "import numpy as np\n",
    "from scipy.special import riccati_jn, riccati_yn"
   ]
  },
  {
   "cell_type": "code",
   "execution_count": 2,
   "metadata": {},
   "outputs": [],
   "source": [
    "convE = 1./219474.6 # convert cminv to a.u.\n",
    "convm = 1822.889    # convert atomic mass units to a.u."
   ]
  },
  {
   "cell_type": "markdown",
   "metadata": {},
   "source": [
    "## Potentials and couplings"
   ]
  },
  {
   "cell_type": "code",
   "execution_count": 3,
   "metadata": {},
   "outputs": [],
   "source": [
    "def pot(r, l1, l2, l3, C1, C2, C3, C4):\n",
    "    return C1*np.exp(-l1*r) + (C2+C3*r)*np.exp(-l2*r) - 0.5*C4*(np.tanh(1.2*(r-l3))+1)*r**(-6)"
   ]
  },
  {
   "cell_type": "code",
   "execution_count": 4,
   "metadata": {},
   "outputs": [
    {
     "name": "stdout",
     "output_type": "stream",
     "text": [
      "0.0929648241206027\n"
     ]
    }
   ],
   "source": [
    "# setting up the grid:\n",
    "N = 200\n",
    "r = np.linspace(3.5, 22, N)\n",
    "h = r[2] - r[1]\n",
    "r = np.append(r, r[-1]+h)\n",
    "print(h)"
   ]
  },
  {
   "cell_type": "code",
   "execution_count": 5,
   "metadata": {
    "scrolled": true
   },
   "outputs": [
    {
     "name": "stdout",
     "output_type": "stream",
     "text": [
      "(201, 2, 2)\n"
     ]
    }
   ],
   "source": [
    "A = 293.3 * convE # spin-orbit constant\n",
    "\n",
    "Sigma = pot(r, 0.813, 1.2014, 5.5701,\n",
    "            3.7457e+3*convE, 6.7280e+5*convE, -1.2773e+5*convE, 3.4733e+6*convE)\n",
    "\n",
    "Pi = pot(r, 0.677, 2.2061, 6.2093,\n",
    "         -7.7718e+3*convE, -7.3837e+7*convE, 3.2149e+7*convE, 2.9743e+6*convE)\n",
    "\n",
    "V11 = 2./3.*Sigma + Pi/3. - A\n",
    "V12 = np.sqrt(2.)/3.*(Pi - Sigma)\n",
    "V21 = V12\n",
    "V22 = Sigma/3. + 2./3.*Pi + 2.*A\n",
    "\n",
    "#V = np.array([[V11, V12],[V21, V22]])\n",
    "#V.shape\n",
    "V = np.zeros((N+1, 2, 2))\n",
    "for i in range(N+1):\n",
    "    V[i] = np.array([[V11[i], V12[i]],[V21[i], V22[i]]])\n",
    "print(V.shape)"
   ]
  },
  {
   "cell_type": "code",
   "execution_count": 6,
   "metadata": {},
   "outputs": [
    {
     "name": "stdout",
     "output_type": "stream",
     "text": [
      "(201, 2)\n"
     ]
    }
   ],
   "source": [
    "# numerical eigenvalues\n",
    "Ev = np.linalg.eigvalsh(V)\n",
    "print(Ev.shape)\n",
    "\n",
    "# analytical eigenvalues:\n",
    "E1 = 0.5*(-np.sqrt(9.*A**2 + 2.*A*Pi - 2.*A*Sigma + Pi**2 - 2.*Pi*Sigma + Sigma**2) + A + Pi + Sigma)\n",
    "E2 = 0.5*( np.sqrt(9.*A**2 + 2.*A*Pi - 2.*A*Sigma + Pi**2 - 2.*Pi*Sigma + Sigma**2) + A + Pi + Sigma)"
   ]
  },
  {
   "cell_type": "code",
   "execution_count": 7,
   "metadata": {},
   "outputs": [
    {
     "data": {
      "image/png": "[encoded data removed]",
      "text/plain": [
       "<Figure size 432x288 with 1 Axes>"
      ]
     },
     "metadata": {
      "needs_background": "light"
     },
     "output_type": "display_data"
    }
   ],
   "source": [
    "fig, ax = plt.subplots()\n",
    "ax.plot(r, V[:,0,0]/convE, '-', label=r'$V_{11}$')\n",
    "ax.plot(r, V[:,1,1]/convE, '-', label=r'$V_{22}$')\n",
    "ax.plot(r, V[:,0,1]/convE, ':', label=r'$V_{12}=V_{21}$')\n",
    "ax.plot(r, Ev[:,0]/convE, '--', label=r'$V\\prime_{11}$')\n",
    "ax.plot(r, Ev[:,1]/convE, '--', label=r'$V\\prime_{22}$')\n",
    "#ax.plot(r, E1/convE, 'k:')\n",
    "#ax.plot(r, E2/convE, 'k:')\n",
    "ax.set_xlim(3.5, 22.0)\n",
    "ax.set_ylim(-500, 2000)\n",
    "ax.set_xlabel(r'$r$')\n",
    "ax.set_ylabel(r'$V$')\n",
    "ax.legend()\n",
    "plt.show()"
   ]
  },
  {
   "cell_type": "markdown",
   "metadata": {},
   "source": [
    "## Numerov method"
   ]
  },
  {
   "cell_type": "code",
   "execution_count": 8,
   "metadata": {},
   "outputs": [],
   "source": [
    "m = 2.85 * convm # mass of system"
   ]
  },
  {
   "cell_type": "code",
   "execution_count": 9,
   "metadata": {},
   "outputs": [
    {
     "data": {
      "text/plain": [
       "5195.23365"
      ]
     },
     "execution_count": 9,
     "metadata": {},
     "output_type": "execute_result"
    }
   ],
   "source": [
    "m"
   ]
  },
  {
   "cell_type": "code",
   "execution_count": 10,
   "metadata": {},
   "outputs": [],
   "source": [
    "E = 1000 * convE # collision energy"
   ]
  },
  {
   "cell_type": "code",
   "execution_count": 11,
   "metadata": {},
   "outputs": [
    {
     "data": {
      "text/plain": [
       "0.0045563359040180496"
      ]
     },
     "execution_count": 11,
     "metadata": {},
     "output_type": "execute_result"
    }
   ],
   "source": [
    "E"
   ]
  },
  {
   "cell_type": "code",
   "execution_count": 12,
   "metadata": {},
   "outputs": [],
   "source": [
    "Id = np.diag([1,1]) # Identity matrix"
   ]
  },
  {
   "cell_type": "code",
   "execution_count": 13,
   "metadata": {},
   "outputs": [],
   "source": [
    "# functions for W, T and U matrices\n",
    "w = lambda i: 2*m*(E*Id - V[i])\n",
    "t = lambda i: -h**2/12. * w(i)\n",
    "u = lambda i: 12.*np.linalg.inv(Id - t(i)) - 10.*Id  # Eq. (100)"
   ]
  },
  {
   "cell_type": "code",
   "execution_count": 14,
   "metadata": {},
   "outputs": [],
   "source": [
    "# Numerov propagation\n",
    "U = np.zeros((N, 2, 2))\n",
    "T = np.zeros((N+1, 2, 2))\n",
    "R = np.zeros((N+1, 2, 2))\n",
    "\n",
    "U[0] = u(0)\n",
    "R[1] = U[0]\n",
    "\n",
    "U[1] = u(1)\n",
    "R[2] = U[1] - np.linalg.inv(U[0])\n",
    "\n",
    "for i in range(2, N+1):\n",
    "    #print(i)\n",
    "    U[i-1] = u(i-1)\n",
    "    T[i] = t(i)\n",
    "    R[i] = U[i-1] - np.linalg.inv(R[i-1])"
   ]
  },
  {
   "cell_type": "code",
   "execution_count": 15,
   "metadata": {},
   "outputs": [
    {
     "data": {
      "text/plain": [
       "0.0045563359040180496"
      ]
     },
     "execution_count": 15,
     "metadata": {},
     "output_type": "execute_result"
    }
   ],
   "source": [
    "E"
   ]
  },
  {
   "cell_type": "markdown",
   "metadata": {},
   "source": [
    "## Determine the log derivative matrix"
   ]
  },
  {
   "cell_type": "markdown",
   "metadata": {},
   "source": [
    "Can be calculated by Eq. (105)\n",
    "\n",
    "Seems to match nearly with the values from M.A.'s script."
   ]
  },
  {
   "cell_type": "code",
   "execution_count": 21,
   "metadata": {},
   "outputs": [
    {
     "data": {
      "text/plain": [
       "array([[36.69283011, -0.71832009],\n",
       "       [-0.71946462, -4.03952767]])"
      ]
     },
     "execution_count": 21,
     "metadata": {},
     "output_type": "execute_result"
    }
   ],
   "source": [
    "n = N-1 # because of zero indexing\n",
    "Y_N = 1./h * (\n",
    "     (0.5*Id-T[n+1]) @ np.linalg.inv(Id-T[n+1]) @ R[n+1]\n",
    "    -(0.5*Id-T[n-1]) @ np.linalg.inv(Id-T[n-1]) @ np.linalg.inv(R[n])) @ (Id-T[n])\n",
    "\n",
    "Y_N # log derivative matrix"
   ]
  },
  {
   "cell_type": "markdown",
   "metadata": {},
   "source": [
    "## Determine S matrix"
   ]
  },
  {
   "cell_type": "markdown",
   "metadata": {},
   "source": [
    "### S matrix for l=0"
   ]
  },
  {
   "cell_type": "markdown",
   "metadata": {},
   "source": [
    "The S matrix can be constructed by solving Eq. (109).\n",
    "\n",
    "\n",
    "Seems also to match nearly with the values from the script."
   ]
  },
  {
   "cell_type": "code",
   "execution_count": 22,
   "metadata": {},
   "outputs": [
    {
     "data": {
      "text/plain": [
       "array([[ 0.12690881-0.99120274j, -0.002956  +0.03742051j],\n",
       "       [-0.00296071+0.03748014j, -0.0302924 +0.99883487j]])"
      ]
     },
     "execution_count": 22,
     "metadata": {},
     "output_type": "execute_result"
    }
   ],
   "source": [
    "k = np.sqrt(np.diag(2.*m*(E - V[n])))\n",
    "h1 = np.diag(-1.j/np.sqrt(k) * np.exp(+1.j*k*r[n]))\n",
    "h2 = h1.conj()\n",
    "h1p = +1.j*np.diag(k) * h1\n",
    "h2p = -1.j*np.diag(k) * h2\n",
    "\n",
    "S = np.linalg.inv(h1p - Y_N @ h1) @ (h2p - Y_N @ h2)\n",
    "\n",
    "S"
   ]
  },
  {
   "cell_type": "code",
   "execution_count": 23,
   "metadata": {},
   "outputs": [],
   "source": [
    "# seems to be wrong compared to values from M.A.\n",
    "#k1 = np.sqrt(2.*m*(E - E1[n+1]+E2[n+1]))\n",
    "#k2 = np.sqrt(2.*m*(E - 0))\n",
    "\n",
    "# this seems to give correct values\n",
    "k1, k2 = np.sqrt(2.*m*(E - V[n])).diagonal()"
   ]
  },
  {
   "cell_type": "code",
   "execution_count": 24,
   "metadata": {},
   "outputs": [],
   "source": [
    "h1_1 = -1.j/np.sqrt(k1) * np.exp(+1.j*k1*r[n])\n",
    "h1_2 = -1.j/np.sqrt(k2) * np.exp(+1.j*k2*r[n])\n",
    "\n",
    "h2_1 = +1.j/np.sqrt(k1) * np.exp(-1.j*k1*r[n])\n",
    "h2_2 = +1.j/np.sqrt(k2) * np.exp(-1.j*k2*r[n])\n",
    "\n",
    "h1 = np.diag([h1_1, h1_2])\n",
    "h2 = np.diag([h2_1, h2_2])\n",
    "\n",
    "\n",
    "h1p_1 = +k1/np.sqrt(k1) * np.exp(+1.j*k1*r[n])\n",
    "h1p_2 = +k2/np.sqrt(k2) * np.exp(+1.j*k2*r[n])\n",
    "\n",
    "h2p_1 = +k1/np.sqrt(k1) * np.exp(-1.j*k1*r[n])\n",
    "h2p_2 = +k2/np.sqrt(k2) * np.exp(-1.j*k2*r[n])\n",
    "\n",
    "h1p = np.diag([h1p_1, h1p_2])\n",
    "h2p = np.diag([h2p_1, h2p_2])"
   ]
  },
  {
   "cell_type": "code",
   "execution_count": 25,
   "metadata": {},
   "outputs": [
    {
     "data": {
      "text/plain": [
       "array([[ 0.12690881-0.99120274j, -0.002956  +0.03742051j],\n",
       "       [-0.00296071+0.03748014j, -0.0302924 +0.99883487j]])"
      ]
     },
     "execution_count": 25,
     "metadata": {},
     "output_type": "execute_result"
    }
   ],
   "source": [
    "S = np.linalg.inv(h1p - Y_N @ h1) @ (h2p - Y_N @ h2)\n",
    "\n",
    "S # scattering matrix"
   ]
  },
  {
   "cell_type": "markdown",
   "metadata": {},
   "source": [
    "The last version is taken from the Matlab script of M.A. about the method in the locally adiabatic basis.\n",
    "This script is available here:\n",
    "http://www2.chem.umd.edu/groups/alexander/teaching/matlab_files/renormalized_numerov_adiab_final.m"
   ]
  },
  {
   "cell_type": "code",
   "execution_count": 26,
   "metadata": {},
   "outputs": [
    {
     "data": {
      "text/plain": [
       "array([[ 0.12701157-0.99118958j, -0.00296147+0.03742007j],\n",
       "       [-0.00296619+0.0374797j , -0.03048106+0.99882913j]])"
      ]
     },
     "execution_count": 26,
     "metadata": {},
     "output_type": "execute_result"
    }
   ],
   "source": [
    "# taken from Matlab script of M.A.\n",
    "k = np.sqrt(np.diag(-T[n+1]*12/(h*h))) # is not exactly the same as np.sqrt(np.diag(2.*m*(E - V[n])))\n",
    "h2 = np.diag(1.j*np.exp(-k*1.j*r[n])/np.sqrt(k))\n",
    "h2p=-1.j*np.diag(k)*h2\n",
    "h1 = h2.conj()\n",
    "h1p = 1.j*np.diag(k)*h1\n",
    "\n",
    "S = np.linalg.inv(h1p - Y_N @ h1) @ (h2p - Y_N @ h2)\n",
    "S"
   ]
  },
  {
   "cell_type": "markdown",
   "metadata": {},
   "source": [
    "### S matrix for arbitrary l\n",
    "\n",
    "(following Roman Krems)"
   ]
  },
  {
   "cell_type": "code",
   "execution_count": 27,
   "metadata": {},
   "outputs": [],
   "source": [
    "l1 = 0\n",
    "l2 = 0\n",
    "\n",
    "k1 = k[0]\n",
    "k2 = k[1]\n",
    "\n",
    "j1 = 1/np.sqrt(k1) * riccati_jn(l1, k1*r[n])[0]\n",
    "j2 = 1/np.sqrt(k2) * riccati_jn(l2, k2*r[n])[0]\n",
    "\n",
    "j1p = np.sqrt(k1) * riccati_jn(l1, k1*r[n])[1]\n",
    "j2p = np.sqrt(k2) * riccati_jn(l2, k2*r[n])[1]\n",
    "\n",
    "j = np.diagflat([j1, j2])\n",
    "jp = np.diagflat([j1p, j2p])"
   ]
  },
  {
   "cell_type": "code",
   "execution_count": 28,
   "metadata": {},
   "outputs": [],
   "source": [
    "y1 = 1/np.sqrt(k1) * riccati_yn(l1, k1*r[n])[0]\n",
    "y2 = 1/np.sqrt(k2) * riccati_yn(l2, k2*r[n])[0]\n",
    "\n",
    "y1p = np.sqrt(k1) * riccati_yn(l1, k1*r[n])[1]\n",
    "y2p = np.sqrt(k2) * riccati_yn(l2, k2*r[n])[1]\n",
    "\n",
    "y = np.diagflat([y1, y2])\n",
    "yp = np.diagflat([y1p, y2p])"
   ]
  },
  {
   "cell_type": "code",
   "execution_count": 29,
   "metadata": {},
   "outputs": [
    {
     "data": {
      "text/plain": [
       "array([[ 1.13553277, -0.03957659],\n",
       "       [-0.03963965, -0.96917039]])"
      ]
     },
     "execution_count": 29,
     "metadata": {},
     "output_type": "execute_result"
    }
   ],
   "source": [
    "K = np.linalg.inv(Y_N @ y - yp) @ (Y_N @ j - jp)\n",
    "K"
   ]
  },
  {
   "cell_type": "code",
   "execution_count": null,
   "metadata": {},
   "outputs": [],
   "source": []
  },
  {
   "cell_type": "code",
   "execution_count": 30,
   "metadata": {},
   "outputs": [
    {
     "data": {
      "text/plain": [
       "array([[-0.12701157+0.99118958j,  0.00296147-0.03742007j],\n",
       "       [ 0.00296619-0.0374797j ,  0.03048106-0.99882913j]])"
      ]
     },
     "execution_count": 30,
     "metadata": {},
     "output_type": "execute_result"
    }
   ],
   "source": [
    "S = (Id + 1j*K) @ np.linalg.inv(Id - 1j*K)\n",
    "S"
   ]
  },
  {
   "cell_type": "code",
   "execution_count": 31,
   "metadata": {},
   "outputs": [
    {
     "data": {
      "text/plain": [
       "array([[-0.12701157+0.99118958j,  0.00296147-0.03742007j],\n",
       "       [ 0.00296619-0.0374797j ,  0.03048106-0.99882913j]])"
      ]
     },
     "execution_count": 31,
     "metadata": {},
     "output_type": "execute_result"
    }
   ],
   "source": [
    "S = np.linalg.inv(Id - 1j*K) @ (Id + 1j*K)\n",
    "S"
   ]
  },
  {
   "cell_type": "code",
   "execution_count": 32,
   "metadata": {},
   "outputs": [
    {
     "data": {
      "text/plain": [
       "array([[-0.12701157-0.99118958j,  0.00296147+0.03742007j],\n",
       "       [ 0.00296619+0.0374797j ,  0.03048106+0.99882913j]])"
      ]
     },
     "execution_count": 32,
     "metadata": {},
     "output_type": "execute_result"
    }
   ],
   "source": [
    "S = (Id - 1j*K) @ np.linalg.inv(Id + 1j*K)\n",
    "S"
   ]
  },
  {
   "cell_type": "markdown",
   "metadata": {},
   "source": [
    "Alternatively, real and imaginary part can be split:  \n",
    "(Note: typo in Roman Krems book)"
   ]
  },
  {
   "cell_type": "code",
   "execution_count": 33,
   "metadata": {},
   "outputs": [
    {
     "data": {
      "text/plain": [
       "array([[-0.12701157+0.99118958j,  0.00296147-0.03742007j],\n",
       "       [ 0.00296619-0.0374797j ,  0.03048106-0.99882913j]])"
      ]
     },
     "execution_count": 33,
     "metadata": {},
     "output_type": "execute_result"
    }
   ],
   "source": [
    "S = (Id - K@K) @ np.linalg.inv(Id + K@K) + 2j * K @ np.linalg.inv(Id + K@K)\n",
    "S"
   ]
  },
  {
   "cell_type": "markdown",
   "metadata": {},
   "source": [
    "Calculated in the way above, the S matrix has the opposite sign compared to the result of Millard Alexander.\n",
    "If the Riccati-Bessel functions of the second kind are defined with the minus sign and the K matrix is calculated differently, the sign of the S matrix matches (s. below)."
   ]
  },
  {
   "cell_type": "code",
   "execution_count": 34,
   "metadata": {},
   "outputs": [
    {
     "name": "stdout",
     "output_type": "stream",
     "text": [
      "[[-0.87939032  0.03591037]\n",
      " [ 0.03596759  1.03034155]]\n",
      "[[ 0.12701157-0.99118958j -0.00296147+0.03742007j]\n",
      " [-0.00296619+0.0374797j  -0.03048106+0.99882913j]]\n"
     ]
    }
   ],
   "source": [
    "l1 = 0\n",
    "l2 = 0\n",
    "y1 = -1/np.sqrt(k1) * riccati_yn(l1, k1*r[n])[0]\n",
    "y2 = -1/np.sqrt(k2) * riccati_yn(l2, k2*r[n])[0]\n",
    "y1p = -np.sqrt(k1) * riccati_yn(l1, k1*r[n])[1]\n",
    "y2p = -np.sqrt(k2) * riccati_yn(l2, k2*r[n])[1]\n",
    "y = np.diagflat([y1, y2])\n",
    "yp = np.diagflat([y1p, y2p])\n",
    "\n",
    "\n",
    "K = np.linalg.inv(Y_N @ j - jp) @ (Y_N @ y - yp)\n",
    "print(K)\n",
    "\n",
    "S = (Id + 1j*K) @ np.linalg.inv(Id - 1j*K)\n",
    "print(S)"
   ]
  },
  {
   "cell_type": "code",
   "execution_count": null,
   "metadata": {},
   "outputs": [],
   "source": []
  }
 ],
 "metadata": {
  "kernelspec": {
   "display_name": "Python 3 (ipykernel)",
   "language": "python",
   "name": "python3"
  },
  "language_info": {
   "codemirror_mode": {
    "name": "ipython",
    "version": 3
   },
   "file_extension": ".py",
   "mimetype": "text/x-python",
   "name": "python",
   "nbconvert_exporter": "python",
   "pygments_lexer": "ipython3",
   "version": "3.11.11"
  }
 },
 "nbformat": 4,
 "nbformat_minor": 4
}
