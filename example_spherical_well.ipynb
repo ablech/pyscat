{
 "cells": [
  {
   "cell_type": "markdown",
   "id": "5957031b-ebca-471b-9983-163d2c95a0b0",
   "metadata": {},
   "source": [
    "**Created: 30.03.2023**\n",
    "\n",
    "Calculate the cross section for a scattering problem that also has an analytical solution."
   ]
  },
  {
   "cell_type": "code",
   "execution_count": null,
   "id": "60db698e-6db4-44f4-84aa-e3c9580f696a",
   "metadata": {
    "tags": []
   },
   "outputs": [],
   "source": [
    "from pathlib import Path\n",
    "import matplotlib.pyplot as plt\n",
    "import numpy as np\n",
    "from multiprocessing import Pool\n",
    "import subprocess\n",
    "from scipy.interpolate import interp1d\n",
    "from scipy.special import riccati_jn, riccati_yn, spherical_jn, spherical_yn, hankel1, hankel2\n",
    "\n",
    "from scattering import numerov_asymptotic, log_deriv_1ch, log_deriv, S_from_log_deriv"
   ]
  },
  {
   "cell_type": "code",
   "execution_count": 2,
   "id": "e0640c48-76ae-468e-9352-1d81bb0f2d70",
   "metadata": {},
   "outputs": [],
   "source": [
    "au_to_K = 3.157746662555312504e5"
   ]
  },
  {
   "cell_type": "code",
   "execution_count": 3,
   "id": "32c42bec-75f8-4820-8372-fdba129bf08d",
   "metadata": {},
   "outputs": [],
   "source": [
    "r, dr = np.linspace(0, 20, 5001, retstep=True)\n",
    "\n",
    "mass = 1\n",
    "V0 = 1\n",
    "r_stop = 2\n",
    "V = -V0 * np.heaviside(r_stop - r, 1)\n",
    "Vmat = V.reshape((r.size, 1, 1))\n",
    "Vmat2 = np.zeros((r.size, 2, 2))\n",
    "Vmat2[:, 0,0] = V\n",
    "Vmat2[:, 1,1] = V\n",
    "\n",
    "E = 5\n",
    "\n",
    "def S0(E):\n",
    "    K0 = np.sqrt(2*mass*(E+V0))\n",
    "    k0 = np.sqrt(2*mass*E)\n",
    "    delta_0 = -k0 * r_stop + np.arctan(k0/K0*np.tan(K0*r_stop))\n",
    "    return np.exp(2j*delta_0)\n",
    "\n",
    "def sigma0(E):\n",
    "    k0 = np.sqrt(2*mass*E)\n",
    "    return np.pi * np.abs(1 - S0(E))**2 / k0**2"
   ]
  },
  {
   "cell_type": "code",
   "execution_count": 4,
   "id": "610dc34a-34f6-40b2-af62-2c72022003e0",
   "metadata": {},
   "outputs": [
    {
     "data": {
      "text/plain": [
       "[<matplotlib.lines.Line2D at 0x7f8ad72a6710>]"
      ]
     },
     "execution_count": 4,
     "metadata": {},
     "output_type": "execute_result"
    },
    {
     "data": {
      "image/png": "[encoded data removed]",
      "text/plain": [
       "<Figure size 432x288 with 1 Axes>"
      ]
     },
     "metadata": {
      "needs_background": "light"
     },
     "output_type": "display_data"
    }
   ],
   "source": [
    "plt.plot(r, V)"
   ]
  },
  {
   "cell_type": "markdown",
   "id": "59aa1009-f0c0-4cae-b205-beecd9d28261",
   "metadata": {},
   "source": [
    "# Single energy"
   ]
  },
  {
   "cell_type": "markdown",
   "id": "4346b0ec-af0a-444b-8c4c-ab85aeb95edb",
   "metadata": {},
   "source": [
    "## Compare numerov and log-deriv implementation"
   ]
  },
  {
   "cell_type": "code",
   "execution_count": 5,
   "id": "eab74ed7-51b0-45b1-8d2f-59afcf235634",
   "metadata": {},
   "outputs": [
    {
     "data": {
      "text/plain": [
       "2.1466246432979177"
      ]
     },
     "execution_count": 5,
     "metadata": {},
     "output_type": "execute_result"
    }
   ],
   "source": [
    "log_deriv_1ch(E, mass, V, r)"
   ]
  },
  {
   "cell_type": "code",
   "execution_count": 6,
   "id": "5c9052cb-2eb3-49b9-bfaf-8136f4d1dda8",
   "metadata": {},
   "outputs": [
    {
     "data": {
      "text/plain": [
       "array([[2.14662464]])"
      ]
     },
     "execution_count": 6,
     "metadata": {},
     "output_type": "execute_result"
    }
   ],
   "source": [
    "log_deriv(E, mass, Vmat, r)"
   ]
  },
  {
   "cell_type": "code",
   "execution_count": 7,
   "id": "d6b27c87-0f05-4816-87eb-4a2eef3c08a3",
   "metadata": {},
   "outputs": [
    {
     "data": {
      "text/plain": [
       "array([[2.14598831]])"
      ]
     },
     "execution_count": 7,
     "metadata": {},
     "output_type": "execute_result"
    }
   ],
   "source": [
    "numerov_asymptotic(E, mass, Vmat, r)"
   ]
  },
  {
   "cell_type": "code",
   "execution_count": 8,
   "id": "fc0f67d1-149a-479e-a17d-a990eb0479e6",
   "metadata": {},
   "outputs": [
    {
     "data": {
      "text/plain": [
       "array([[2.14598831, 0.        ],\n",
       "       [0.        , 2.14598831]])"
      ]
     },
     "execution_count": 8,
     "metadata": {},
     "output_type": "execute_result"
    }
   ],
   "source": [
    "numerov_asymptotic(E, mass, Vmat2, r)"
   ]
  },
  {
   "cell_type": "code",
   "execution_count": null,
   "id": "8d104e83-7138-47aa-8311-8740d9e7ef03",
   "metadata": {},
   "outputs": [],
   "source": []
  },
  {
   "cell_type": "markdown",
   "id": "235fdd79-e712-4850-9a7e-7ef5cebb6a47",
   "metadata": {},
   "source": [
    "##  Compare numerical with analytical result"
   ]
  },
  {
   "cell_type": "code",
   "execution_count": 9,
   "id": "65e74542-b7b6-4fc3-aee6-c807c2dbf94e",
   "metadata": {},
   "outputs": [
    {
     "data": {
      "text/plain": [
       "array([[0.41120172+0.91154437j]])"
      ]
     },
     "execution_count": 9,
     "metadata": {},
     "output_type": "execute_result"
    }
   ],
   "source": [
    "Y_N = numerov_asymptotic(E, mass, Vmat, r)\n",
    "S_num = S_from_log_deriv(Y_N, E, [0], mass, Vmat, r)\n",
    "S_num"
   ]
  },
  {
   "cell_type": "code",
   "execution_count": 10,
   "id": "8fc9326d-f416-425b-8d4a-3ed7202a28cf",
   "metadata": {},
   "outputs": [
    {
     "data": {
      "text/plain": [
       "array([[0.43437632+0.90073149j]])"
      ]
     },
     "execution_count": 10,
     "metadata": {},
     "output_type": "execute_result"
    }
   ],
   "source": [
    "Y_N = log_deriv(E, mass, Vmat, r)\n",
    "S_log = S_from_log_deriv(Y_N, E, [0], mass, Vmat, r, shift=1)\n",
    "S_log"
   ]
  },
  {
   "cell_type": "code",
   "execution_count": 11,
   "id": "e1c2c500-7692-46c4-a0d5-0bb4e169f3a1",
   "metadata": {},
   "outputs": [
    {
     "data": {
      "text/plain": [
       "(0.4348633846437862+0.9004964390246918j)"
      ]
     },
     "execution_count": 11,
     "metadata": {},
     "output_type": "execute_result"
    }
   ],
   "source": [
    "S0(E)"
   ]
  },
  {
   "cell_type": "code",
   "execution_count": null,
   "id": "77b90cd0-abec-48b4-8687-06b7f5561d8b",
   "metadata": {},
   "outputs": [],
   "source": []
  },
  {
   "cell_type": "markdown",
   "id": "ffa21326-6669-45c0-9ea6-bd6c2c4de74b",
   "metadata": {},
   "source": [
    "# Loop over energies"
   ]
  },
  {
   "cell_type": "code",
   "execution_count": 12,
   "id": "a7dc3a9b-3c74-4ceb-87c6-6fffe6da9684",
   "metadata": {},
   "outputs": [],
   "source": [
    "r, dr = np.linspace(0.001, 50, 2001, retstep=True)\n",
    "\n",
    "mass = 1\n",
    "V0 = 2\n",
    "V0_hard = 2000\n",
    "r_stop = 2\n",
    "V = -V0 * np.heaviside(r_stop - r, 1)\n",
    "V_hard = -V0_hard * np.heaviside(r_stop - r, 1)\n",
    "Vmat = V.reshape((r.size, 1, 1))\n",
    "Vmat2 = np.zeros((r.size, 2, 2))\n",
    "Vmat2[:, 0,0] = V\n",
    "Vmat2[:, 1,1] = V\n",
    "\n",
    "E = 5\n",
    "\n",
    "def S0(E):\n",
    "    K0 = np.sqrt(2*mass*(E+V0))\n",
    "    k0 = np.sqrt(2*mass*E)\n",
    "    # Other source: seems to be equivalent to atkins\n",
    "    delta_0 = np.arctan(\n",
    "        (k0*np.sin(K0*r_stop)*np.cos(k0*r_stop) - K0*np.sin(k0*r_stop)*np.cos(K0*r_stop)) /\n",
    "        (K0*np.cos(K0*r_stop)*np.cos(k0*r_stop) + k0*np.sin(k0*r_stop)*np.sin(K0*r_stop))\n",
    "    )\n",
    "    # Atkins:\n",
    "    delta_0 = -k0 * r_stop + np.arctan(k0/K0*np.tan(K0*r_stop))\n",
    "    return np.exp(2j*delta_0)\n",
    "\n",
    "def sigma0(E):\n",
    "    k0 = np.sqrt(2*mass*E)\n",
    "    return np.pi * np.abs(1 - S0(E))**2 / k0**2\n",
    "\n",
    "def S1_hard(E):\n",
    "    # Atkins:\n",
    "    delta_1 = np.zeros(len(E))\n",
    "    for iE in range(len(E)):\n",
    "        k = np.sqrt(2*mass*E[iE])\n",
    "        delta_1[iE] = np.arctan(-riccati_jn(1, k*r_stop)[0][1] / riccati_yn(1, k*r_stop)[0][1])\n",
    "    return np.exp(2j*delta_1)\n",
    "\n",
    "def sigma0_hard(E):\n",
    "    k = np.sqrt(2*mass*E)\n",
    "    return 4*np.pi*np.sin(k*r_stop)**2 / k**2\n",
    "\n",
    "def sigma1_hard(E):\n",
    "    k = np.sqrt(2*mass*E)\n",
    "    return np.pi * 3 * np.abs(1 - S1_hard(E))**2 / k**2"
   ]
  },
  {
   "cell_type": "code",
   "execution_count": 13,
   "id": "e0d8ddcd-24cc-44be-b745-1e800a7f59be",
   "metadata": {},
   "outputs": [],
   "source": [
    "def run(method, energies, l_vals, V, r):\n",
    "    sigma_ch = np.zeros((len(l_vals), energies.size))\n",
    "    for iE, E in enumerate(energies):\n",
    "        if method == 'numerov':\n",
    "            Y_N = numerov_asymptotic(E, mass, V, r)\n",
    "            shift = 0\n",
    "        elif method == 'logderiv':\n",
    "            Y_N = log_deriv(E, mass, V, r)\n",
    "            shift = 1\n",
    "        else:\n",
    "            raise ValueError('Invalid method')\n",
    "        S = S_from_log_deriv(Y_N, E, l_vals, mass, V, r, shift=shift)\n",
    "        for ch in range(len(l_vals)):\n",
    "            k_ch = np.sqrt(2*mass*np.abs(E - V[-1, ch, ch]))\n",
    "            sigma_ch[ch, iE] = np.pi * np.abs(1 - S[ch, ch])**2 / k_ch**2 * (2*l_vals[ch]+1)\n",
    "    sigma = sigma_ch.sum(axis=0)\n",
    "    return sigma, sigma_ch"
   ]
  },
  {
   "cell_type": "markdown",
   "id": "57a0a9d4-32d8-4dd1-af22-00f15db4ac7a",
   "metadata": {},
   "source": [
    "### l = 0"
   ]
  },
  {
   "cell_type": "code",
   "execution_count": 71,
   "id": "005a626f-cd97-49bc-bbac-5789a2ad0657",
   "metadata": {},
   "outputs": [],
   "source": [
    "energies = np.linspace(1, 25, 45)\n",
    "sigma_num, sigma_ch_num = run('numerov', energies, [0], Vmat, r)"
   ]
  },
  {
   "cell_type": "code",
   "execution_count": 72,
   "id": "43c25a31-d581-4043-8018-001b8386d516",
   "metadata": {},
   "outputs": [],
   "source": [
    "sigma_log, sigma_ch_log = run('logderiv', energies, [0], Vmat, r)"
   ]
  },
  {
   "cell_type": "code",
   "execution_count": 73,
   "id": "38631aea-de87-40aa-8c17-8c12014fadde",
   "metadata": {},
   "outputs": [],
   "source": [
    "sigma_ana = sigma0(energies)"
   ]
  },
  {
   "cell_type": "code",
   "execution_count": 74,
   "id": "a43763f5-7b72-4a98-917c-dd7bf836121f",
   "metadata": {},
   "outputs": [
    {
     "data": {
      "image/png": "[encoded data removed]",
      "text/plain": [
       "<Figure size 432x288 with 1 Axes>"
      ]
     },
     "metadata": {
      "needs_background": "light"
     },
     "output_type": "display_data"
    }
   ],
   "source": [
    "fig, ax = plt.subplots()\n",
    "ax.plot(energies, sigma0_hard(energies), 'k:', label='analytic hard')\n",
    "ax.plot(energies, sigma_ana, 'k-', label='analytic')\n",
    "ax.plot(energies, sigma_num, '-', label='numerov')\n",
    "ax.plot(energies, sigma_log, '--', label='log-deriv')\n",
    "ax.set_yscale('log')\n",
    "ax.set_xlabel('Energy')\n",
    "ax.set_ylabel('Cross section')\n",
    "ax.legend()\n",
    "plt.show()"
   ]
  },
  {
   "cell_type": "markdown",
   "id": "e0e7c128-2a1a-4c46-b0aa-040f0344b63e",
   "metadata": {},
   "source": [
    "### l = 1"
   ]
  },
  {
   "cell_type": "code",
   "execution_count": 75,
   "id": "4a92a0f0-a37b-4950-878d-caa752c2eb22",
   "metadata": {},
   "outputs": [],
   "source": [
    "V_l1 = -V0_hard * np.heaviside(r_stop - r, 1) + 3/(2*mass*r**2)\n",
    "Vmat_l1 = V_l1.reshape((r.size, 1, 1))"
   ]
  },
  {
   "cell_type": "code",
   "execution_count": 76,
   "id": "bdf4eb36-06cd-4653-a6c8-eb3dee507d72",
   "metadata": {},
   "outputs": [],
   "source": [
    "sigma_l1_num, sigma_l1_ch_num = run('numerov', energies, [1], Vmat_l1, r)"
   ]
  },
  {
   "cell_type": "code",
   "execution_count": 77,
   "id": "ff10a774-c1ee-434e-a502-6924a1b8ba84",
   "metadata": {},
   "outputs": [],
   "source": [
    "sigma_l1_log, sigma_l1_ch_log = run('logderiv', energies, [1], Vmat_l1, r)"
   ]
  },
  {
   "cell_type": "code",
   "execution_count": 78,
   "id": "6f96916a-de61-4193-8dac-4ccd36d5393d",
   "metadata": {},
   "outputs": [
    {
     "data": {
      "image/png": "[encoded data removed]",
      "text/plain": [
       "<Figure size 432x288 with 1 Axes>"
      ]
     },
     "metadata": {
      "needs_background": "light"
     },
     "output_type": "display_data"
    }
   ],
   "source": [
    "fig, ax = plt.subplots()\n",
    "ax.plot(energies, sigma1_hard(energies), 'k-', label='analytic hard')\n",
    "ax.plot(energies, sigma_l1_num, '-', label='numerov')\n",
    "ax.plot(energies, sigma_l1_log, '--', label='log-deriv')\n",
    "ax.set_yscale('log')\n",
    "ax.set_xlabel('Energy')\n",
    "ax.set_ylabel('Cross section')\n",
    "ax.legend()\n",
    "plt.show()"
   ]
  },
  {
   "cell_type": "code",
   "execution_count": null,
   "id": "f43d0ac4-544a-4ac2-a699-1452900b27f5",
   "metadata": {},
   "outputs": [],
   "source": []
  }
 ],
 "metadata": {
  "kernelspec": {
   "display_name": "pypad",
   "language": "python",
   "name": "pypad"
  },
  "language_info": {
   "codemirror_mode": {
    "name": "ipython",
    "version": 3
   },
   "file_extension": ".py",
   "mimetype": "text/x-python",
   "name": "python",
   "nbconvert_exporter": "python",
   "pygments_lexer": "ipython3",
   "version": "3.11.6"
  }
 },
 "nbformat": 4,
 "nbformat_minor": 5
}
